{
  "nbformat": 4,
  "nbformat_minor": 0,
  "metadata": {
    "colab": {
      "name": "Face_Similarity.ipynb",
      "provenance": [],
      "authorship_tag": "ABX9TyPKcwHDG/AHilGV8hUYU4BA",
      "include_colab_link": true
    },
    "kernelspec": {
      "name": "python3",
      "display_name": "Python 3"
    },
    "accelerator": "GPU"
  },
  "cells": [
    {
      "cell_type": "markdown",
      "metadata": {
        "id": "view-in-github",
        "colab_type": "text"
      },
      "source": [
        "<a href=\"https://colab.research.google.com/github/rahulrkumar9000/Datascience/blob/master/Face_Similarity.ipynb\" target=\"_parent\"><img src=\"https://colab.research.google.com/assets/colab-badge.svg\" alt=\"Open In Colab\"/></a>"
      ]
    },
    {
      "cell_type": "code",
      "metadata": {
        "id": "XSBnXaIByyun",
        "colab_type": "code",
        "colab": {
          "base_uri": "https://localhost:8080/",
          "height": 122
        },
        "outputId": "9416d2ee-fe6b-4be3-e852-a45e3367f719"
      },
      "source": [
        "from google.colab import drive\n",
        "\n",
        "drive.mount(\"/content/drive\")"
      ],
      "execution_count": 1,
      "outputs": [
        {
          "output_type": "stream",
          "text": [
            "Go to this URL in a browser: https://accounts.google.com/o/oauth2/auth?client_id=947318989803-6bn6qk8qdgf4n4g3pfee6491hc0brc4i.apps.googleusercontent.com&redirect_uri=urn%3aietf%3awg%3aoauth%3a2.0%3aoob&response_type=code&scope=email%20https%3a%2f%2fwww.googleapis.com%2fauth%2fdocs.test%20https%3a%2f%2fwww.googleapis.com%2fauth%2fdrive%20https%3a%2f%2fwww.googleapis.com%2fauth%2fdrive.photos.readonly%20https%3a%2f%2fwww.googleapis.com%2fauth%2fpeopleapi.readonly\n",
            "\n",
            "Enter your authorization code:\n",
            "··········\n",
            "Mounted at /content/drive\n"
          ],
          "name": "stdout"
        }
      ]
    },
    {
      "cell_type": "code",
      "metadata": {
        "id": "ZhfuZW2bzFVX",
        "colab_type": "code",
        "colab": {
          "base_uri": "https://localhost:8080/",
          "height": 309
        },
        "outputId": "4e627dc0-2787-4223-ad86-817ad60f6988"
      },
      "source": [
        "pip install face_recognition"
      ],
      "execution_count": 2,
      "outputs": [
        {
          "output_type": "stream",
          "text": [
            "Collecting face_recognition\n",
            "  Downloading https://files.pythonhosted.org/packages/1e/95/f6c9330f54ab07bfa032bf3715c12455a381083125d8880c43cbe76bb3d0/face_recognition-1.3.0-py2.py3-none-any.whl\n",
            "Requirement already satisfied: Pillow in /usr/local/lib/python3.6/dist-packages (from face_recognition) (7.0.0)\n",
            "Requirement already satisfied: numpy in /usr/local/lib/python3.6/dist-packages (from face_recognition) (1.18.2)\n",
            "Requirement already satisfied: dlib>=19.7 in /usr/local/lib/python3.6/dist-packages (from face_recognition) (19.18.0)\n",
            "Collecting face-recognition-models>=0.3.0\n",
            "\u001b[?25l  Downloading https://files.pythonhosted.org/packages/cf/3b/4fd8c534f6c0d1b80ce0973d01331525538045084c73c153ee6df20224cf/face_recognition_models-0.3.0.tar.gz (100.1MB)\n",
            "\u001b[K     |████████████████████████████████| 100.2MB 42kB/s \n",
            "\u001b[?25hRequirement already satisfied: Click>=6.0 in /usr/local/lib/python3.6/dist-packages (from face_recognition) (7.1.1)\n",
            "Building wheels for collected packages: face-recognition-models\n",
            "  Building wheel for face-recognition-models (setup.py) ... \u001b[?25l\u001b[?25hdone\n",
            "  Created wheel for face-recognition-models: filename=face_recognition_models-0.3.0-py2.py3-none-any.whl size=100566172 sha256=3d380e7cf7f10f90673234ac0bd44be4c31cd7b90504e233eacf908002408e0c\n",
            "  Stored in directory: /root/.cache/pip/wheels/d2/99/18/59c6c8f01e39810415c0e63f5bede7d83dfb0ffc039865465f\n",
            "Successfully built face-recognition-models\n",
            "Installing collected packages: face-recognition-models, face-recognition\n",
            "Successfully installed face-recognition-1.3.0 face-recognition-models-0.3.0\n"
          ],
          "name": "stdout"
        }
      ]
    },
    {
      "cell_type": "code",
      "metadata": {
        "id": "LRk51nDHzcZB",
        "colab_type": "code",
        "colab": {}
      },
      "source": [
        "import face_recognition\n",
        "\n",
        "\n",
        "\n"
      ],
      "execution_count": 0,
      "outputs": []
    },
    {
      "cell_type": "markdown",
      "metadata": {
        "id": "irBO4R887Q6-",
        "colab_type": "text"
      },
      "source": [
        ""
      ]
    },
    {
      "cell_type": "code",
      "metadata": {
        "id": "fK5SI7bV7Rsc",
        "colab_type": "code",
        "colab": {}
      },
      "source": [
        "obama_image = face_recognition.load_image_file(\"/content/drive/My Drive/Train_Images/Barack Obama.jpg\")\n",
        "steve_image = face_recognition.load_image_file(\"/content/drive/My Drive/Train_Images/Steve Jobs.jpg\")\n",
        "unknown_image = face_recognition.load_image_file(\"/content/drive/My Drive/Test_Images/unknown.jpg\")"
      ],
      "execution_count": 0,
      "outputs": []
    },
    {
      "cell_type": "code",
      "metadata": {
        "id": "jp-qS4hDziIb",
        "colab_type": "code",
        "colab": {}
      },
      "source": [
        "# Get the face encodings for each face in each image file\n",
        "# Since there could be more than one face in each image, it returns a list of encodings.\n",
        "# But since I know each image only has one face, I only care about the first encoding in each image, so I grab index 0.\n",
        "try:\n",
        "    obama_face_encoding = face_recognition.face_encodings(obama_image)[0]\n",
        "    steve_face_encoding = face_recognition.face_encodings(steve_image)[0]\n",
        "    unknown_face_encoding = face_recognition.face_encodings(unknown_image)[0]\n",
        "except IndexError:\n",
        "    print(\"I wasn't able to locate any faces in at least one of the images. Check the image files. Aborting...\")\n",
        "    quit()\n",
        "\n"
      ],
      "execution_count": 0,
      "outputs": []
    },
    {
      "cell_type": "code",
      "metadata": {
        "id": "jRPSyLn484_8",
        "colab_type": "code",
        "colab": {
          "base_uri": "https://localhost:8080/",
          "height": 68
        },
        "outputId": "d3c53480-f769-4dd6-9be4-69619c941286"
      },
      "source": [
        "known_faces = [\n",
        "    steve_face_encoding,\n",
        "    obama_face_encoding\n",
        "]\n",
        "\n",
        "# results is an array of True/False telling if the unknown face matched anyone in the known_faces array\n",
        "results = face_recognition.compare_faces(known_faces, unknown_face_encoding)\n",
        "\n",
        "print(\"Is the unknown face a picture of Biden? {}\".format(results[0]))\n",
        "print(\"Is the unknown face a picture of Obama? {}\".format(results[1]))\n",
        "print(\"Is the unknown face a new person that we've never seen before? {}\".format(not True in results))"
      ],
      "execution_count": 9,
      "outputs": [
        {
          "output_type": "stream",
          "text": [
            "Is the unknown face a picture of Biden? False\n",
            "Is the unknown face a picture of Obama? True\n",
            "Is the unknown face a new person that we've never seen before? False\n"
          ],
          "name": "stdout"
        }
      ]
    },
    {
      "cell_type": "code",
      "metadata": {
        "id": "fbjXJ9vs9JZe",
        "colab_type": "code",
        "colab": {}
      },
      "source": [
        ""
      ],
      "execution_count": 0,
      "outputs": []
    }
  ]
}